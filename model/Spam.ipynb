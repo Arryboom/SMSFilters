{
 "cells": [
  {
   "cell_type": "markdown",
   "metadata": {},
   "source": [
    "# 使用CoreML训练垃圾短信过滤"
   ]
  },
  {
   "cell_type": "markdown",
   "metadata": {},
   "source": [
    "## 加载模块"
   ]
  },
  {
   "cell_type": "code",
   "execution_count": 1,
   "metadata": {},
   "outputs": [],
   "source": [
    "%matplotlib inline\n",
    "from io import open\n",
    "import matplotlib.pyplot as plt\n",
    "import csv\n",
    "import pandas\n",
    "import sklearn\n",
    "import pickle\n",
    "import numpy as np\n",
    "import pandas as pd\n",
    "from sklearn.feature_extraction.text import CountVectorizer, TfidfTransformer, TfidfVectorizer\n",
    "from sklearn.naive_bayes import MultinomialNB\n",
    "from sklearn.svm import SVC, LinearSVC\n",
    "from sklearn.metrics import classification_report, f1_score, accuracy_score, confusion_matrix\n",
    "from sklearn.pipeline import Pipeline\n",
    "from sklearn.model_selection import StratifiedKFold, cross_val_score, train_test_split \n",
    "from sklearn.tree import DecisionTreeClassifier \n",
    "import string\n",
    "plt.style.use('ggplot')\n",
    "# pd.options.display.mpl_style = 'default'"
   ]
  },
  {
   "cell_type": "markdown",
   "metadata": {},
   "source": [
    "## 数据\n",
    "\n",
    "数据来源: [wandouqiang/RubbishMessage](https://github.com/wandouqiang/RubbishMessage)"
   ]
  },
  {
   "cell_type": "code",
   "execution_count": 3,
   "metadata": {},
   "outputs": [
    {
     "name": "stdout",
     "output_type": "stream",
     "text": [
      "--2019-01-04 16:30:47--  https://raw.githubusercontent.com/wandouqiang/RubbishMessage/master/data/80w.txt\n",
      "Resolving raw.githubusercontent.com (raw.githubusercontent.com)... 151.101.72.133\n",
      "Connecting to raw.githubusercontent.com (raw.githubusercontent.com)|151.101.72.133|:443... connected.\n",
      "HTTP request sent, awaiting response... 200 OK\n",
      "Length: 64501011 (62M) [text/plain]\n",
      "Saving to: ‘data/80w.txt’\n",
      "\n",
      "data/80w.txt        100%[===================>]  61.51M   663KB/s    in 2m 36s  \n",
      "\n",
      "2019-01-04 16:33:26 (404 KB/s) - ‘data/80w.txt’ saved [64501011/64501011]\n",
      "\n"
     ]
    }
   ],
   "source": [
    "!mkdir -p data && wget -c https://raw.githubusercontent.com/wandouqiang/RubbishMessage/master/data/80w.txt -O data/80w.txt"
   ]
  },
  {
   "cell_type": "code",
   "execution_count": 5,
   "metadata": {},
   "outputs": [
    {
     "name": "stdout",
     "output_type": "stream",
     "text": [
      "共有800000条信息\n",
      "0 1\t0\t商业秘密的秘密性那是维系其商业价值和垄断地位的前提条件之一\n",
      "1 2\t1\t南口阿玛施新春第一批限量春装到店啦         春暖花开淑女裙、冰蓝色公主衫   气质粉小西装、冰丝女王长半裙、   皇\n",
      "2 3\t0\t带给我们大常州一场壮观的视觉盛宴\n",
      "3 4\t0\t有原因不明的泌尿系统结石等\n",
      "4 5\t0\t23年从盐城拉回来的麻麻的嫁妆\n",
      "5 6\t0\t感到自减肥、跳减肥健美操、\n",
      "6 7\t1\t感谢致电杭州萧山全金釜韩国烧烤店，本店位于金城路xxx号。韩式烧烤等，价格实惠、欢迎惠顾【全金釜韩国烧烤店】\n",
      "7 8\t0\t这款UVe智能杀菌机器人是扫地机的最佳伴侣\n",
      "8 9\t1\t一次价值xxx元王牌项目；可充值xxx元店内项目卡一张；可以参与V动好生活百分百抽奖机会一次！预约电话：xxxxxxxxxxx\n",
      "9 10\t0\t此类皮肤特别容易招惹粉刺、黑头等\n"
     ]
    }
   ],
   "source": [
    "file_80w = './data/80w.txt'\n",
    "with open(file_80w) as f:\n",
    "    corpus = f.readlines()\n",
    "\n",
    "print(\"共有{}条信息\".format(len(corpus)))\n",
    "\n",
    "corpus = [x.strip() for x in corpus]\n",
    "\n",
    "for i,message in enumerate(corpus[:10]):\n",
    "    print(i, message)"
   ]
  },
  {
   "cell_type": "markdown",
   "metadata": {},
   "source": [
    "加载数据"
   ]
  },
  {
   "cell_type": "code",
   "execution_count": 6,
   "metadata": {},
   "outputs": [
    {
     "data": {
      "text/html": [
       "<div>\n",
       "<style scoped>\n",
       "    .dataframe tbody tr th:only-of-type {\n",
       "        vertical-align: middle;\n",
       "    }\n",
       "\n",
       "    .dataframe tbody tr th {\n",
       "        vertical-align: top;\n",
       "    }\n",
       "\n",
       "    .dataframe thead th {\n",
       "        text-align: right;\n",
       "    }\n",
       "</style>\n",
       "<table border=\"1\" class=\"dataframe\">\n",
       "  <thead>\n",
       "    <tr style=\"text-align: right;\">\n",
       "      <th></th>\n",
       "      <th>label</th>\n",
       "      <th>message</th>\n",
       "    </tr>\n",
       "  </thead>\n",
       "  <tbody>\n",
       "    <tr>\n",
       "      <th>1</th>\n",
       "      <td>0</td>\n",
       "      <td>商业秘密的秘密性那是维系其商业价值和垄断地位的前提条件之一</td>\n",
       "    </tr>\n",
       "    <tr>\n",
       "      <th>2</th>\n",
       "      <td>1</td>\n",
       "      <td>南口阿玛施新春第一批限量春装到店啦         春暖花开淑女裙、冰蓝色公主衫  ...</td>\n",
       "    </tr>\n",
       "    <tr>\n",
       "      <th>3</th>\n",
       "      <td>0</td>\n",
       "      <td>带给我们大常州一场壮观的视觉盛宴</td>\n",
       "    </tr>\n",
       "    <tr>\n",
       "      <th>4</th>\n",
       "      <td>0</td>\n",
       "      <td>有原因不明的泌尿系统结石等</td>\n",
       "    </tr>\n",
       "    <tr>\n",
       "      <th>5</th>\n",
       "      <td>0</td>\n",
       "      <td>23年从盐城拉回来的麻麻的嫁妆</td>\n",
       "    </tr>\n",
       "  </tbody>\n",
       "</table>\n",
       "</div>"
      ],
      "text/plain": [
       "   label                                            message\n",
       "1      0                      商业秘密的秘密性那是维系其商业价值和垄断地位的前提条件之一\n",
       "2      1  南口阿玛施新春第一批限量春装到店啦         春暖花开淑女裙、冰蓝色公主衫  ...\n",
       "3      0                                   带给我们大常州一场壮观的视觉盛宴\n",
       "4      0                                      有原因不明的泌尿系统结石等\n",
       "5      0                                    23年从盐城拉回来的麻麻的嫁妆"
      ]
     },
     "execution_count": 6,
     "metadata": {},
     "output_type": "execute_result"
    }
   ],
   "source": [
    "with open(file_80w, encoding='UTF-8') as f:\n",
    "    messages = pd.read_csv(f, sep='\\t', quoting=csv.QUOTE_NONE, names=['label', 'message'])\n",
    "\n",
    "messages['message'] = messages['message'].map(lambda text:text)\n",
    "messages.head()"
   ]
  },
  {
   "cell_type": "code",
   "execution_count": 7,
   "metadata": {},
   "outputs": [
    {
     "data": {
      "text/html": [
       "<div>\n",
       "<style scoped>\n",
       "    .dataframe tbody tr th:only-of-type {\n",
       "        vertical-align: middle;\n",
       "    }\n",
       "\n",
       "    .dataframe tbody tr th {\n",
       "        vertical-align: top;\n",
       "    }\n",
       "\n",
       "    .dataframe thead tr th {\n",
       "        text-align: left;\n",
       "    }\n",
       "\n",
       "    .dataframe thead tr:last-of-type th {\n",
       "        text-align: right;\n",
       "    }\n",
       "</style>\n",
       "<table border=\"1\" class=\"dataframe\">\n",
       "  <thead>\n",
       "    <tr>\n",
       "      <th></th>\n",
       "      <th colspan=\"4\" halign=\"left\">message</th>\n",
       "    </tr>\n",
       "    <tr>\n",
       "      <th></th>\n",
       "      <th>count</th>\n",
       "      <th>unique</th>\n",
       "      <th>top</th>\n",
       "      <th>freq</th>\n",
       "    </tr>\n",
       "    <tr>\n",
       "      <th>label</th>\n",
       "      <th></th>\n",
       "      <th></th>\n",
       "      <th></th>\n",
       "      <th></th>\n",
       "    </tr>\n",
       "  </thead>\n",
       "  <tbody>\n",
       "    <tr>\n",
       "      <th>0</th>\n",
       "      <td>720000</td>\n",
       "      <td>707465</td>\n",
       "      <td>#NAME?</td>\n",
       "      <td>61</td>\n",
       "    </tr>\n",
       "    <tr>\n",
       "      <th>1</th>\n",
       "      <td>80000</td>\n",
       "      <td>79146</td>\n",
       "      <td>平安易贷可帮您获取所需资金，无须抵押，手续简便快速，快来申请吧！，在申请时输入我的邀请码xx...</td>\n",
       "      <td>92</td>\n",
       "    </tr>\n",
       "  </tbody>\n",
       "</table>\n",
       "</div>"
      ],
      "text/plain": [
       "      message                                                                \n",
       "        count  unique                                                top freq\n",
       "label                                                                        \n",
       "0      720000  707465                                             #NAME?   61\n",
       "1       80000   79146  平安易贷可帮您获取所需资金，无须抵押，手续简便快速，快来申请吧！，在申请时输入我的邀请码xx...   92"
      ]
     },
     "execution_count": 7,
     "metadata": {},
     "output_type": "execute_result"
    }
   ],
   "source": [
    "messages.groupby('label').describe()"
   ]
  },
  {
   "cell_type": "code",
   "execution_count": 8,
   "metadata": {},
   "outputs": [
    {
     "data": {
      "text/html": [
       "<div>\n",
       "<style scoped>\n",
       "    .dataframe tbody tr th:only-of-type {\n",
       "        vertical-align: middle;\n",
       "    }\n",
       "\n",
       "    .dataframe tbody tr th {\n",
       "        vertical-align: top;\n",
       "    }\n",
       "\n",
       "    .dataframe thead th {\n",
       "        text-align: right;\n",
       "    }\n",
       "</style>\n",
       "<table border=\"1\" class=\"dataframe\">\n",
       "  <thead>\n",
       "    <tr style=\"text-align: right;\">\n",
       "      <th></th>\n",
       "      <th>label</th>\n",
       "      <th>message</th>\n",
       "      <th>length</th>\n",
       "    </tr>\n",
       "  </thead>\n",
       "  <tbody>\n",
       "    <tr>\n",
       "      <th>1</th>\n",
       "      <td>0</td>\n",
       "      <td>商业秘密的秘密性那是维系其商业价值和垄断地位的前提条件之一</td>\n",
       "      <td>29</td>\n",
       "    </tr>\n",
       "    <tr>\n",
       "      <th>2</th>\n",
       "      <td>1</td>\n",
       "      <td>南口阿玛施新春第一批限量春装到店啦         春暖花开淑女裙、冰蓝色公主衫  ...</td>\n",
       "      <td>67</td>\n",
       "    </tr>\n",
       "    <tr>\n",
       "      <th>3</th>\n",
       "      <td>0</td>\n",
       "      <td>带给我们大常州一场壮观的视觉盛宴</td>\n",
       "      <td>16</td>\n",
       "    </tr>\n",
       "    <tr>\n",
       "      <th>4</th>\n",
       "      <td>0</td>\n",
       "      <td>有原因不明的泌尿系统结石等</td>\n",
       "      <td>13</td>\n",
       "    </tr>\n",
       "    <tr>\n",
       "      <th>5</th>\n",
       "      <td>0</td>\n",
       "      <td>23年从盐城拉回来的麻麻的嫁妆</td>\n",
       "      <td>15</td>\n",
       "    </tr>\n",
       "  </tbody>\n",
       "</table>\n",
       "</div>"
      ],
      "text/plain": [
       "   label                                            message  length\n",
       "1      0                      商业秘密的秘密性那是维系其商业价值和垄断地位的前提条件之一      29\n",
       "2      1  南口阿玛施新春第一批限量春装到店啦         春暖花开淑女裙、冰蓝色公主衫  ...      67\n",
       "3      0                                   带给我们大常州一场壮观的视觉盛宴      16\n",
       "4      0                                      有原因不明的泌尿系统结石等      13\n",
       "5      0                                    23年从盐城拉回来的麻麻的嫁妆      15"
      ]
     },
     "execution_count": 8,
     "metadata": {},
     "output_type": "execute_result"
    }
   ],
   "source": [
    "messages['length'] = messages['message'].map(lambda text:len(text))\n",
    "messages.head()"
   ]
  },
  {
   "cell_type": "code",
   "execution_count": 9,
   "metadata": {},
   "outputs": [
    {
     "data": {
      "text/plain": [
       "<matplotlib.axes._subplots.AxesSubplot at 0x1a32d8eb00>"
      ]
     },
     "execution_count": 9,
     "metadata": {},
     "output_type": "execute_result"
    },
    {
     "data": {
      "image/png": "[encoded data removed]",
      "text/plain": [
       "<Figure size 432x288 with 1 Axes>"
      ]
     },
     "metadata": {
      "needs_background": "light"
     },
     "output_type": "display_data"
    }
   ],
   "source": [
    "messages.length.plot(bins=20, kind='hist')"
   ]
  },
  {
   "cell_type": "code",
   "execution_count": 10,
   "metadata": {},
   "outputs": [
    {
     "data": {
      "text/plain": [
       "count    800000.000000\n",
       "mean         25.663336\n",
       "std          19.480775\n",
       "min           1.000000\n",
       "25%          15.000000\n",
       "50%          19.000000\n",
       "75%          27.000000\n",
       "max         962.000000\n",
       "Name: length, dtype: float64"
      ]
     },
     "execution_count": 10,
     "metadata": {},
     "output_type": "execute_result"
    }
   ],
   "source": [
    "messages.length.describe()"
   ]
  },
  {
   "cell_type": "code",
   "execution_count": 11,
   "metadata": {},
   "outputs": [
    {
     "data": {
      "text/plain": [
       "array([<matplotlib.axes._subplots.AxesSubplot object at 0x1a20beab38>,\n",
       "       <matplotlib.axes._subplots.AxesSubplot object at 0x1a210991d0>],\n",
       "      dtype=object)"
      ]
     },
     "execution_count": 11,
     "metadata": {},
     "output_type": "execute_result"
    },
    {
     "data": {
      "image/png": "[encoded data removed]",
      "text/plain": [
       "<Figure size 432x288 with 2 Axes>"
      ]
     },
     "metadata": {
      "needs_background": "light"
     },
     "output_type": "display_data"
    }
   ],
   "source": [
    "messages.hist(column='length', by='label', bins=50)"
   ]
  },
  {
   "cell_type": "markdown",
   "metadata": {},
   "source": [
    "## 处理数据\n",
    "\n",
    "使用 Jieba 进行分词，分词数据来源：[yanyiwu/iosjieba](https://github.com/yanyiwu/iosjieba)"
   ]
  },
  {
   "cell_type": "code",
   "execution_count": 12,
   "metadata": {},
   "outputs": [
    {
     "name": "stdout",
     "output_type": "stream",
     "text": [
      "--2019-01-04 16:37:29--  https://raw.githubusercontent.com/yanyiwu/iosjieba/master/iosjieba/iosjieba.bundle/dict/jieba.dict.small.utf8\n",
      "Resolving raw.githubusercontent.com (raw.githubusercontent.com)... 151.101.108.133\n",
      "Connecting to raw.githubusercontent.com (raw.githubusercontent.com)|151.101.108.133|:443... connected.\n",
      "HTTP request sent, awaiting response... 200 OK\n",
      "Length: 1552161 (1.5M) [text/plain]\n",
      "Saving to: ‘dict/jieba.dict.small.utf8’\n",
      "\n",
      "dict/jieba.dict.sma 100%[===================>]   1.48M   543KB/s    in 2.8s    \n",
      "\n",
      "2019-01-04 16:37:32 (543 KB/s) - ‘dict/jieba.dict.small.utf8’ saved [1552161/1552161]\n",
      "\n",
      "--2019-01-04 16:37:32--  https://raw.githubusercontent.com/yanyiwu/iosjieba/master/iosjieba/iosjieba.bundle/dict/user.dict.utf8\n",
      "Resolving raw.githubusercontent.com (raw.githubusercontent.com)... 151.101.108.133\n",
      "Connecting to raw.githubusercontent.com (raw.githubusercontent.com)|151.101.108.133|:443... connected.\n",
      "HTTP request sent, awaiting response... 200 OK\n",
      "Length: 33 [text/plain]\n",
      "Saving to: ‘dict/user.dict.utf8’\n",
      "\n",
      "dict/user.dict.utf8 100%[===================>]      33  --.-KB/s    in 0s      \n",
      "\n",
      "2019-01-04 16:37:33 (1.12 MB/s) - ‘dict/user.dict.utf8’ saved [33/33]\n",
      "\n"
     ]
    }
   ],
   "source": [
    "!mkdir dict\n",
    "!wget -c https://raw.githubusercontent.com/yanyiwu/iosjieba/master/iosjieba/iosjieba.bundle/dict/jieba.dict.small.utf8 -O dict/jieba.dict.small.utf8\n",
    "!wget -c https://raw.githubusercontent.com/yanyiwu/iosjieba/master/iosjieba/iosjieba.bundle/dict/user.dict.utf8 -O dict/user.dict.utf8"
   ]
  },
  {
   "cell_type": "code",
   "execution_count": 14,
   "metadata": {},
   "outputs": [
    {
     "name": "stderr",
     "output_type": "stream",
     "text": [
      "Building prefix dict from /Users/qiwihui/Development/nonWork/SMSFilters/model/dict/jieba.dict.small.utf8 ...\n"
     ]
    },
    {
     "name": "stdout",
     "output_type": "stream",
     "text": [
      "removing punctuations: !\"#$%&'()*+,-./:;<=>?@[\\]^_`{|}~\n"
     ]
    },
    {
     "name": "stderr",
     "output_type": "stream",
     "text": [
      "Dumping model to file cache /var/folders/kl/g94q0k_571vdjtcwzzcv20s40000gn/T/jieba.u863e59d49beec8805b7d0b2ea2fa7f35.cache\n",
      "Loading model cost 0.643 seconds.\n",
      "Prefix dict has been built succesfully.\n"
     ]
    },
    {
     "data": {
      "text/plain": [
       "1    [商业, 秘密, 的, 秘密, 性, 那, 是, 维系, 其, 商业, 价值, 和, 垄断,...\n",
       "2    [南口, 阿玛, 施, 新春, 第一批, 限量, 春装, 到, 店, 啦, ,  ,  ,...\n",
       "3                   [带给, 我们, 大, 常州, 一场, 壮观, 的, 视觉, 盛宴]\n",
       "4                        [有, 原因, 不明, 的, 泌尿, 系统, 结石, 等]\n",
       "5                  [23, 年, 从, 盐城, 拉, 回来, 的, 麻麻, 的, 嫁妆]\n",
       "Name: message, dtype: object"
      ]
     },
     "execution_count": 14,
     "metadata": {},
     "output_type": "execute_result"
    }
   ],
   "source": [
    "print(\"removing punctuations: \"+string.punctuation)\n",
    "\n",
    "import jieba\n",
    "jieba.set_dictionary(\"./dict/jieba.dict.small.utf8\")\n",
    "jieba.load_userdict(\"./dict/user.dict.utf8\")\n",
    "jieba.initialize()\n",
    "\n",
    "def tokenize(message):\n",
    "    \"\"\" removes punctuation and tokenizes the words and stems each word.\n",
    "    \"\"\"\n",
    "    msg = \"\".join([ch for ch in message if ch not in string.punctuation]) # get rid of punctuations\n",
    "    stems = list(jieba.cut(msg, HMM=True))\n",
    "    return stems\n",
    "\n",
    "messages.message.head().apply(tokenize)"
   ]
  },
  {
   "cell_type": "markdown",
   "metadata": {},
   "source": [
    "## 特征\n",
    "\n",
    "特征抽取，TF-IDF"
   ]
  },
  {
   "cell_type": "code",
   "execution_count": 15,
   "metadata": {},
   "outputs": [
    {
     "name": "stdout",
     "output_type": "stream",
     "text": [
      "列表中总词数 366750\n"
     ]
    }
   ],
   "source": [
    "fv = CountVectorizer(analyzer=tokenize).fit(messages.message)\n",
    "\n",
    "print(\"总词数\", len(fv.vocabulary_))"
   ]
  },
  {
   "cell_type": "code",
   "execution_count": 16,
   "metadata": {},
   "outputs": [
    {
     "name": "stdout",
     "output_type": "stream",
     "text": [
      "First:\n",
      "  (0, 103421)\t1\n",
      "Second:\n",
      "  (0, 103378)\t1\n",
      "  (0, 162812)\t1\n"
     ]
    }
   ],
   "source": [
    "print(\"First:\")\n",
    "print(fv.transform([\"你好\"]))\n",
    "\n",
    "print(\"Second:\")\n",
    "print(fv.transform([\"好你\"]))"
   ]
  },
  {
   "cell_type": "code",
   "execution_count": 17,
   "metadata": {},
   "outputs": [
    {
     "name": "stdout",
     "output_type": "stream",
     "text": [
      "带给我们大常州一场壮观的视觉盛宴\n",
      "  (0, 76144)\t1\n",
      "  (0, 154901)\t1\n",
      "  (0, 157129)\t1\n",
      "  (0, 182155)\t1\n",
      "  (0, 182558)\t1\n",
      "  (0, 199561)\t1\n",
      "  (0, 274312)\t1\n",
      "  (0, 275510)\t1\n",
      "  (0, 317302)\t1\n"
     ]
    }
   ],
   "source": [
    "print(messages.message[3])\n",
    "print(fv.transform([messages.message[3]]))"
   ]
  },
  {
   "cell_type": "markdown",
   "metadata": {},
   "source": [
    "### TF"
   ]
  },
  {
   "cell_type": "code",
   "execution_count": 20,
   "metadata": {},
   "outputs": [],
   "source": [
    "!mkdir -p result"
   ]
  },
  {
   "cell_type": "code",
   "execution_count": 21,
   "metadata": {},
   "outputs": [],
   "source": [
    "def default(o):\n",
    "    if isinstance(o, np.int64): return int(o)  \n",
    "    raise TypeError\n",
    "\n",
    "import json\n",
    "with open('result/words_array.json', 'w') as fp:\n",
    "    json.dump(fv.vocabulary_, fp, default=default)"
   ]
  },
  {
   "cell_type": "markdown",
   "metadata": {},
   "source": [
    "## Messages Feature Vector"
   ]
  },
  {
   "cell_type": "code",
   "execution_count": 22,
   "metadata": {},
   "outputs": [
    {
     "name": "stdout",
     "output_type": "stream",
     "text": [
      "(800000, 366750)\n"
     ]
    }
   ],
   "source": [
    "messages_fv = fv.transform(messages.message)\n",
    "print(messages_fv.shape)"
   ]
  },
  {
   "cell_type": "code",
   "execution_count": 23,
   "metadata": {},
   "outputs": [
    {
     "name": "stdout",
     "output_type": "stream",
     "text": [
      "  (0, 317302)\t0.39779219779562225\n",
      "  (0, 275510)\t0.40156911498600234\n",
      "  (0, 274312)\t0.08158076058986856\n",
      "  (0, 199561)\t0.21453331213319765\n",
      "  (0, 182558)\t0.30040221221192215\n",
      "  (0, 182155)\t0.40156911498600234\n",
      "  (0, 157129)\t0.2305152019929351\n",
      "  (0, 154901)\t0.4609408713995319\n",
      "  (0, 76144)\t0.3327471446311214\n"
     ]
    }
   ],
   "source": [
    "tfidf = TfidfTransformer().fit(messages_fv)\n",
    "\n",
    "# test tfidf of same message as before.\n",
    "t = tfidf.transform(fv.transform([messages.message[3]]))\n",
    "print(t)"
   ]
  },
  {
   "cell_type": "code",
   "execution_count": 24,
   "metadata": {},
   "outputs": [
    {
     "name": "stdout",
     "output_type": "stream",
     "text": [
      "(800000, 366750)\n"
     ]
    }
   ],
   "source": [
    "messages_tfidf = tfidf.transform(messages_fv)\n",
    "print(messages_tfidf.shape)"
   ]
  },
  {
   "cell_type": "markdown",
   "metadata": {},
   "source": [
    "### IDF"
   ]
  },
  {
   "cell_type": "code",
   "execution_count": 25,
   "metadata": {},
   "outputs": [
    {
     "name": "stdout",
     "output_type": "stream",
     "text": [
      "IDF of corpus : [ 9.82168363 13.89922108  9.72483381 ... 13.49375597 12.0274189\n",
      "  7.8577766 ]\n"
     ]
    }
   ],
   "source": [
    "idf = {}\n",
    "idf['idf'] = tfidf.idf_.tolist()\n",
    "\n",
    "with open('result/words_idf.json', 'w') as fp:\n",
    "    json.dump(idf, fp)\n",
    "\n",
    "print(\"IDF of corpus :\", tfidf.idf_)"
   ]
  },
  {
   "cell_type": "markdown",
   "metadata": {},
   "source": [
    "## 模型训练\n",
    "\n",
    "Linear SVM"
   ]
  },
  {
   "cell_type": "code",
   "execution_count": 26,
   "metadata": {},
   "outputs": [
    {
     "name": "stdout",
     "output_type": "stream",
     "text": [
      "CPU times: user 2.64 s, sys: 256 ms, total: 2.9 s\n",
      "Wall time: 2.97 s\n",
      "accuracy 0.99965375\n",
      "confusion matrix\n",
      " [[719972     28]\n",
      " [   249  79751]]\n",
      "(row=expected, col=predicted)\n"
     ]
    }
   ],
   "source": [
    "%time spam_detector = LinearSVC().fit(messages_tfidf, messages.label)\n",
    "\n",
    "predictions = spam_detector.predict(messages_tfidf)\n",
    "\n",
    "print('accuracy', accuracy_score(messages['label'], predictions))\n",
    "print('confusion matrix\\n', confusion_matrix(messages['label'], predictions))\n",
    "print('(row=expected, col=predicted)')"
   ]
  },
  {
   "cell_type": "code",
   "execution_count": 27,
   "metadata": {},
   "outputs": [
    {
     "data": {
      "text/plain": [
       "Text(0.5, 0, 'predicted label')"
      ]
     },
     "execution_count": 27,
     "metadata": {},
     "output_type": "execute_result"
    },
    {
     "data": {
      "image/png": "[encoded data removed]",
      "text/plain": [
       "<Figure size 288x288 with 2 Axes>"
      ]
     },
     "metadata": {
      "needs_background": "light"
     },
     "output_type": "display_data"
    }
   ],
   "source": [
    "plt.matshow(confusion_matrix(messages['label'], predictions), cmap=plt.cm.binary, interpolation='nearest')\n",
    "plt.title('confusion matrix')\n",
    "plt.colorbar()\n",
    "plt.ylabel('expected label')\n",
    "plt.xlabel('predicted label')"
   ]
  },
  {
   "cell_type": "code",
   "execution_count": 28,
   "metadata": {},
   "outputs": [
    {
     "name": "stdout",
     "output_type": "stream",
     "text": [
      "              precision    recall  f1-score   support\n",
      "\n",
      "           0       1.00      1.00      1.00    720000\n",
      "           1       1.00      1.00      1.00     80000\n",
      "\n",
      "   micro avg       1.00      1.00      1.00    800000\n",
      "   macro avg       1.00      1.00      1.00    800000\n",
      "weighted avg       1.00      1.00      1.00    800000\n",
      "\n"
     ]
    }
   ],
   "source": [
    "print(classification_report(messages['label'], predictions))"
   ]
  },
  {
   "cell_type": "markdown",
   "metadata": {},
   "source": [
    "## 转换为 CoreML"
   ]
  },
  {
   "cell_type": "code",
   "execution_count": 30,
   "metadata": {},
   "outputs": [],
   "source": [
    "import coremltools\n",
    "coreml_model = coremltools.converters.sklearn.convert(spam_detector, \"message\", \"spam_or_not\")\n",
    "\n",
    "#set parameters of the model\n",
    "coreml_model.short_description = \"Classify whether message is spam or not\"\n",
    "coreml_model.input_description[\"message\"] = \"TFIDF of message to be classified\"\n",
    "coreml_model.output_description[\"spam_or_not\"] = \"Whether message is spam or not\"\n",
    "#save the model\n",
    "coreml_model.save(\"result/SpamMessageClassifier.mlmodel\")"
   ]
  },
  {
   "cell_type": "markdown",
   "metadata": {},
   "source": [
    "## 参考\n",
    "\n",
    "- [Building offline iPhone spam classifier using CoreML](https://medium.com/ymedialabs-innovation/building-offline-iphone-spam-classifier-using-coreml-3552c2beb2b2)"
   ]
  },
  {
   "cell_type": "code",
   "execution_count": null,
   "metadata": {},
   "outputs": [],
   "source": []
  }
 ],
 "metadata": {
  "kernelspec": {
   "display_name": "Python 3",
   "language": "python",
   "name": "python3"
  },
  "language_info": {
   "codemirror_mode": {
    "name": "ipython",
    "version": 3
   },
   "file_extension": ".py",
   "mimetype": "text/x-python",
   "name": "python",
   "nbconvert_exporter": "python",
   "pygments_lexer": "ipython3",
   "version": "3.6.5"
  }
 },
 "nbformat": 4,
 "nbformat_minor": 2
}
