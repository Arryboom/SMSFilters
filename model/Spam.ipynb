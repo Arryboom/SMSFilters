{
 "cells": [
  {
   "cell_type": "markdown",
   "metadata": {},
   "source": [
    "# 训练垃圾短信过滤"
   ]
  },
  {
   "cell_type": "markdown",
   "metadata": {},
   "source": [
    "## 加载模块"
   ]
  },
  {
   "cell_type": "code",
   "execution_count": 1,
   "metadata": {},
   "outputs": [
    {
     "data": {
      "text/plain": [
       "'0.20.2'"
      ]
     },
     "execution_count": 1,
     "metadata": {},
     "output_type": "execute_result"
    }
   ],
   "source": [
    "import sklearn\n",
    "sklearn.__version__"
   ]
  },
  {
   "cell_type": "code",
   "execution_count": 2,
   "metadata": {},
   "outputs": [],
   "source": [
    "%matplotlib inline\n",
    "from io import open\n",
    "import matplotlib.pyplot as plt\n",
    "import csv\n",
    "import pandas\n",
    "import sklearn\n",
    "import pickle\n",
    "import numpy as np\n",
    "import pandas as pd\n",
    "from sklearn.feature_extraction.text import CountVectorizer, TfidfTransformer, TfidfVectorizer\n",
    "from sklearn.naive_bayes import MultinomialNB\n",
    "from sklearn.svm import SVC, LinearSVC\n",
    "from sklearn.metrics import classification_report, f1_score, accuracy_score, confusion_matrix\n",
    "from sklearn.model_selection import train_test_split\n",
    "from sklearn.pipeline import Pipeline\n",
    "from sklearn.tree import DecisionTreeClassifier \n",
    "import string\n",
    "plt.style.use('ggplot')\n",
    "# pd.options.display.mpl_style = 'default'"
   ]
  },
  {
   "cell_type": "markdown",
   "metadata": {},
   "source": [
    "## 数据\n",
    "\n",
    "数据来源: [wandouqiang/RubbishMessage](https://github.com/wandouqiang/RubbishMessage)"
   ]
  },
  {
   "cell_type": "code",
   "execution_count": null,
   "metadata": {},
   "outputs": [],
   "source": [
    "!mkdir -p data && wget -c https://raw.githubusercontent.com/wandouqiang/RubbishMessage/master/data/80w.txt -O data/80w.txt"
   ]
  },
  {
   "cell_type": "code",
   "execution_count": 3,
   "metadata": {},
   "outputs": [
    {
     "name": "stdout",
     "output_type": "stream",
     "text": [
      "共有800000条信息\n",
      "0 1\t0\t商业秘密的秘密性那是维系其商业价值和垄断地位的前提条件之一\n",
      "1 2\t1\t南口阿玛施新春第一批限量春装到店啦         春暖花开淑女裙、冰蓝色公主衫   气质粉小西装、冰丝女王长半裙、   皇\n",
      "2 3\t0\t带给我们大常州一场壮观的视觉盛宴\n",
      "3 4\t0\t有原因不明的泌尿系统结石等\n",
      "4 5\t0\t23年从盐城拉回来的麻麻的嫁妆\n",
      "5 6\t0\t感到自减肥、跳减肥健美操、\n",
      "6 7\t1\t感谢致电杭州萧山全金釜韩国烧烤店，本店位于金城路xxx号。韩式烧烤等，价格实惠、欢迎惠顾【全金釜韩国烧烤店】\n",
      "7 8\t0\t这款UVe智能杀菌机器人是扫地机的最佳伴侣\n",
      "8 9\t1\t一次价值xxx元王牌项目；可充值xxx元店内项目卡一张；可以参与V动好生活百分百抽奖机会一次！预约电话：xxxxxxxxxxx\n",
      "9 10\t0\t此类皮肤特别容易招惹粉刺、黑头等\n"
     ]
    }
   ],
   "source": [
    "file_80w = './data/80w.txt'\n",
    "with open(file_80w) as f:\n",
    "    corpus = f.readlines()\n",
    "\n",
    "print(\"共有{}条信息\".format(len(corpus)))\n",
    "\n",
    "corpus = [x.strip() for x in corpus]\n",
    "\n",
    "for i,message in enumerate(corpus[:10]):\n",
    "    print(i, message)"
   ]
  },
  {
   "cell_type": "markdown",
   "metadata": {},
   "source": [
    "加载数据"
   ]
  },
  {
   "cell_type": "code",
   "execution_count": 4,
   "metadata": {},
   "outputs": [
    {
     "data": {
      "text/html": [
       "<div>\n",
       "<style scoped>\n",
       "    .dataframe tbody tr th:only-of-type {\n",
       "        vertical-align: middle;\n",
       "    }\n",
       "\n",
       "    .dataframe tbody tr th {\n",
       "        vertical-align: top;\n",
       "    }\n",
       "\n",
       "    .dataframe thead th {\n",
       "        text-align: right;\n",
       "    }\n",
       "</style>\n",
       "<table border=\"1\" class=\"dataframe\">\n",
       "  <thead>\n",
       "    <tr style=\"text-align: right;\">\n",
       "      <th></th>\n",
       "      <th>label</th>\n",
       "      <th>message</th>\n",
       "    </tr>\n",
       "  </thead>\n",
       "  <tbody>\n",
       "    <tr>\n",
       "      <th>1</th>\n",
       "      <td>0</td>\n",
       "      <td>商业秘密的秘密性那是维系其商业价值和垄断地位的前提条件之一</td>\n",
       "    </tr>\n",
       "    <tr>\n",
       "      <th>2</th>\n",
       "      <td>1</td>\n",
       "      <td>南口阿玛施新春第一批限量春装到店啦         春暖花开淑女裙、冰蓝色公主衫  ...</td>\n",
       "    </tr>\n",
       "    <tr>\n",
       "      <th>3</th>\n",
       "      <td>0</td>\n",
       "      <td>带给我们大常州一场壮观的视觉盛宴</td>\n",
       "    </tr>\n",
       "    <tr>\n",
       "      <th>4</th>\n",
       "      <td>0</td>\n",
       "      <td>有原因不明的泌尿系统结石等</td>\n",
       "    </tr>\n",
       "    <tr>\n",
       "      <th>5</th>\n",
       "      <td>0</td>\n",
       "      <td>23年从盐城拉回来的麻麻的嫁妆</td>\n",
       "    </tr>\n",
       "  </tbody>\n",
       "</table>\n",
       "</div>"
      ],
      "text/plain": [
       "   label                                            message\n",
       "1      0                      商业秘密的秘密性那是维系其商业价值和垄断地位的前提条件之一\n",
       "2      1  南口阿玛施新春第一批限量春装到店啦         春暖花开淑女裙、冰蓝色公主衫  ...\n",
       "3      0                                   带给我们大常州一场壮观的视觉盛宴\n",
       "4      0                                      有原因不明的泌尿系统结石等\n",
       "5      0                                    23年从盐城拉回来的麻麻的嫁妆"
      ]
     },
     "execution_count": 4,
     "metadata": {},
     "output_type": "execute_result"
    }
   ],
   "source": [
    "with open(file_80w, encoding='UTF-8') as f:\n",
    "    messages = pd.read_csv(f, sep='\\t', quoting=csv.QUOTE_NONE, names=['label', 'message'])\n",
    "\n",
    "messages['message'] = messages['message'].map(lambda text:text)\n",
    "messages.head()"
   ]
  },
  {
   "cell_type": "code",
   "execution_count": 5,
   "metadata": {},
   "outputs": [],
   "source": [
    "# 使用2000条数据\n",
    "messages = messages.sample(n=2000)"
   ]
  },
  {
   "cell_type": "code",
   "execution_count": 6,
   "metadata": {},
   "outputs": [
    {
     "data": {
      "text/html": [
       "<div>\n",
       "<style scoped>\n",
       "    .dataframe tbody tr th:only-of-type {\n",
       "        vertical-align: middle;\n",
       "    }\n",
       "\n",
       "    .dataframe tbody tr th {\n",
       "        vertical-align: top;\n",
       "    }\n",
       "\n",
       "    .dataframe thead tr th {\n",
       "        text-align: left;\n",
       "    }\n",
       "\n",
       "    .dataframe thead tr:last-of-type th {\n",
       "        text-align: right;\n",
       "    }\n",
       "</style>\n",
       "<table border=\"1\" class=\"dataframe\">\n",
       "  <thead>\n",
       "    <tr>\n",
       "      <th></th>\n",
       "      <th colspan=\"4\" halign=\"left\">message</th>\n",
       "    </tr>\n",
       "    <tr>\n",
       "      <th></th>\n",
       "      <th>count</th>\n",
       "      <th>unique</th>\n",
       "      <th>top</th>\n",
       "      <th>freq</th>\n",
       "    </tr>\n",
       "    <tr>\n",
       "      <th>label</th>\n",
       "      <th></th>\n",
       "      <th></th>\n",
       "      <th></th>\n",
       "      <th></th>\n",
       "    </tr>\n",
       "  </thead>\n",
       "  <tbody>\n",
       "    <tr>\n",
       "      <th>0</th>\n",
       "      <td>1809</td>\n",
       "      <td>1809</td>\n",
       "      <td>估计蜗壳是上了裁判小本本了</td>\n",
       "      <td>1</td>\n",
       "    </tr>\n",
       "    <tr>\n",
       "      <th>1</th>\n",
       "      <td>191</td>\n",
       "      <td>191</td>\n",
       "      <td>好消息：骆坪街农兴养猪合作社自产自销鲜肉批发部己于羊年正月初五正式启动！鲜肉零售直接降至xx...</td>\n",
       "      <td>1</td>\n",
       "    </tr>\n",
       "  </tbody>\n",
       "</table>\n",
       "</div>"
      ],
      "text/plain": [
       "      message                                                               \n",
       "        count unique                                                top freq\n",
       "label                                                                       \n",
       "0        1809   1809                                      估计蜗壳是上了裁判小本本了    1\n",
       "1         191    191  好消息：骆坪街农兴养猪合作社自产自销鲜肉批发部己于羊年正月初五正式启动！鲜肉零售直接降至xx...    1"
      ]
     },
     "execution_count": 6,
     "metadata": {},
     "output_type": "execute_result"
    }
   ],
   "source": [
    "messages.groupby('label').describe()"
   ]
  },
  {
   "cell_type": "code",
   "execution_count": 7,
   "metadata": {},
   "outputs": [
    {
     "data": {
      "text/html": [
       "<div>\n",
       "<style scoped>\n",
       "    .dataframe tbody tr th:only-of-type {\n",
       "        vertical-align: middle;\n",
       "    }\n",
       "\n",
       "    .dataframe tbody tr th {\n",
       "        vertical-align: top;\n",
       "    }\n",
       "\n",
       "    .dataframe thead th {\n",
       "        text-align: right;\n",
       "    }\n",
       "</style>\n",
       "<table border=\"1\" class=\"dataframe\">\n",
       "  <thead>\n",
       "    <tr style=\"text-align: right;\">\n",
       "      <th></th>\n",
       "      <th>label</th>\n",
       "      <th>message</th>\n",
       "      <th>length</th>\n",
       "    </tr>\n",
       "  </thead>\n",
       "  <tbody>\n",
       "    <tr>\n",
       "      <th>290</th>\n",
       "      <td>0</td>\n",
       "      <td>他是那个喜欢偷偷亲Gary的光洙</td>\n",
       "      <td>16</td>\n",
       "    </tr>\n",
       "    <tr>\n",
       "      <th>357482</th>\n",
       "      <td>0</td>\n",
       "      <td>如刑事诉讼法、民事诉讼法、仲裁法等</td>\n",
       "      <td>17</td>\n",
       "    </tr>\n",
       "    <tr>\n",
       "      <th>504552</th>\n",
       "      <td>0</td>\n",
       "      <td>口碑相传品质教学无锡英之妆是您最佳的选择</td>\n",
       "      <td>20</td>\n",
       "    </tr>\n",
       "    <tr>\n",
       "      <th>326394</th>\n",
       "      <td>0</td>\n",
       "      <td>在今天召开的微软全球合作商大会上微软首席运营商KevinTurner透露Lumia520在相...</td>\n",
       "      <td>55</td>\n",
       "    </tr>\n",
       "    <tr>\n",
       "      <th>582765</th>\n",
       "      <td>1</td>\n",
       "      <td>你好，爱尚健身俱乐部，现招前台接待，底薪加提成，包住，月休xx天，月工资均达xxxx左右，有...</td>\n",
       "      <td>67</td>\n",
       "    </tr>\n",
       "  </tbody>\n",
       "</table>\n",
       "</div>"
      ],
      "text/plain": [
       "        label                                            message  length\n",
       "290         0                                   他是那个喜欢偷偷亲Gary的光洙      16\n",
       "357482      0                                  如刑事诉讼法、民事诉讼法、仲裁法等      17\n",
       "504552      0                               口碑相传品质教学无锡英之妆是您最佳的选择      20\n",
       "326394      0  在今天召开的微软全球合作商大会上微软首席运营商KevinTurner透露Lumia520在相...      55\n",
       "582765      1  你好，爱尚健身俱乐部，现招前台接待，底薪加提成，包住，月休xx天，月工资均达xxxx左右，有...      67"
      ]
     },
     "execution_count": 7,
     "metadata": {},
     "output_type": "execute_result"
    }
   ],
   "source": [
    "messages['length'] = messages['message'].map(lambda text:len(text))\n",
    "messages.head()"
   ]
  },
  {
   "cell_type": "code",
   "execution_count": 8,
   "metadata": {},
   "outputs": [
    {
     "data": {
      "text/plain": [
       "<matplotlib.axes._subplots.AxesSubplot at 0x1a25f59ba8>"
      ]
     },
     "execution_count": 8,
     "metadata": {},
     "output_type": "execute_result"
    },
    {
     "data": {
      "image/png": "[encoded data removed]",
      "text/plain": [
       "<Figure size 432x288 with 1 Axes>"
      ]
     },
     "metadata": {
      "needs_background": "light"
     },
     "output_type": "display_data"
    }
   ],
   "source": [
    "messages.length.plot(bins=20, kind='hist')"
   ]
  },
  {
   "cell_type": "code",
   "execution_count": 9,
   "metadata": {},
   "outputs": [
    {
     "data": {
      "text/plain": [
       "count    2000.000000\n",
       "mean       25.511500\n",
       "std        19.899016\n",
       "min         3.000000\n",
       "25%        15.000000\n",
       "50%        19.000000\n",
       "75%        27.000000\n",
       "max       370.000000\n",
       "Name: length, dtype: float64"
      ]
     },
     "execution_count": 9,
     "metadata": {},
     "output_type": "execute_result"
    }
   ],
   "source": [
    "messages.length.describe()"
   ]
  },
  {
   "cell_type": "code",
   "execution_count": 10,
   "metadata": {},
   "outputs": [
    {
     "data": {
      "text/plain": [
       "array([<matplotlib.axes._subplots.AxesSubplot object at 0x1a22515278>,\n",
       "       <matplotlib.axes._subplots.AxesSubplot object at 0x1a22693f60>],\n",
       "      dtype=object)"
      ]
     },
     "execution_count": 10,
     "metadata": {},
     "output_type": "execute_result"
    },
    {
     "data": {
      "image/png": "[encoded data removed]",
      "text/plain": [
       "<Figure size 432x288 with 2 Axes>"
      ]
     },
     "metadata": {
      "needs_background": "light"
     },
     "output_type": "display_data"
    }
   ],
   "source": [
    "messages.hist(column='length', by='label', bins=50)"
   ]
  },
  {
   "cell_type": "markdown",
   "metadata": {},
   "source": [
    "## 处理数据\n",
    "\n",
    "使用 Jieba 进行分词，分词数据来源：[yanyiwu/iosjieba](https://github.com/yanyiwu/iosjieba)"
   ]
  },
  {
   "cell_type": "code",
   "execution_count": null,
   "metadata": {},
   "outputs": [],
   "source": [
    "!mkdir dict\n",
    "!wget -c https://raw.githubusercontent.com/yanyiwu/iosjieba/master/iosjieba/iosjieba.bundle/dict/jieba.dict.small.utf8 -O dict/jieba.dict.small.utf8\n",
    "!wget -c https://raw.githubusercontent.com/yanyiwu/iosjieba/master/iosjieba/iosjieba.bundle/dict/user.dict.utf8 -O dict/user.dict.utf8"
   ]
  },
  {
   "cell_type": "code",
   "execution_count": 11,
   "metadata": {},
   "outputs": [
    {
     "name": "stdout",
     "output_type": "stream",
     "text": [
      "removing punctuations: !\"#$%&'()*+,-./:;<=>?@[\\]^_`{|}~\n"
     ]
    },
    {
     "name": "stderr",
     "output_type": "stream",
     "text": [
      "Building prefix dict from /Users/qiwihui/Development/nonWork/SMSFilters/model/dict/jieba.dict.small.utf8 ...\n",
      "Loading model from cache /var/folders/kl/g94q0k_571vdjtcwzzcv20s40000gn/T/jieba.u863e59d49beec8805b7d0b2ea2fa7f35.cache\n",
      "Loading model cost 0.335 seconds.\n",
      "Prefix dict has been built succesfully.\n"
     ]
    },
    {
     "data": {
      "text/plain": [
       "290                      [他, 是, 那个, 喜欢, 偷偷, 亲, Gary, 的, 光洙]\n",
       "357482                    [如, 刑事诉讼法, 、, 民事, 诉讼法, 、, 仲裁, 法等]\n",
       "504552           [口碑, 相传, 品质, 教学, 无锡, 英之妆, 是, 您, 最佳, 的, 选择]\n",
       "326394    [在, 今天, 召开, 的, 微软, 全球, 合作, 商, 大会, 上, 微软, 首席, 运...\n",
       "582765    [你好, ，, 爱尚, 健身, 俱乐部, ，, 现招, 前台, 接待, ，, 底薪, 加, ...\n",
       "Name: message, dtype: object"
      ]
     },
     "execution_count": 11,
     "metadata": {},
     "output_type": "execute_result"
    }
   ],
   "source": [
    "print(\"removing punctuations: \"+string.punctuation)\n",
    "\n",
    "import jieba\n",
    "jieba.set_dictionary(\"./dict/jieba.dict.small.utf8\")\n",
    "jieba.load_userdict(\"./dict/user.dict.utf8\")\n",
    "jieba.initialize()\n",
    "\n",
    "def tokenize(message):\n",
    "    \"\"\" removes punctuation and tokenizes the words and stems each word.\n",
    "    \"\"\"\n",
    "    msg = \"\".join([ch for ch in message if ch not in string.punctuation]) # get rid of punctuations\n",
    "    stems = list(jieba.cut(msg, HMM=True))\n",
    "    return stems\n",
    "\n",
    "messages.message.head().apply(tokenize)"
   ]
  },
  {
   "cell_type": "markdown",
   "metadata": {},
   "source": [
    "## 特征\n",
    "\n",
    "特征抽取，TF-IDF"
   ]
  },
  {
   "cell_type": "code",
   "execution_count": 12,
   "metadata": {},
   "outputs": [
    {
     "name": "stdout",
     "output_type": "stream",
     "text": [
      "总词数 9301\n"
     ]
    }
   ],
   "source": [
    "fv = CountVectorizer(analyzer=tokenize).fit(messages.message)\n",
    "\n",
    "print(\"总词数\", len(fv.vocabulary_))"
   ]
  },
  {
   "cell_type": "code",
   "execution_count": 13,
   "metadata": {},
   "outputs": [
    {
     "name": "stdout",
     "output_type": "stream",
     "text": [
      "First:\n",
      "  (0, 1676)\t1\n",
      "Second:\n",
      "  (0, 1674)\t1\n",
      "  (0, 3569)\t1\n"
     ]
    }
   ],
   "source": [
    "print(\"First:\")\n",
    "print(fv.transform([\"你好\"]))\n",
    "\n",
    "print(\"Second:\")\n",
    "print(fv.transform([\"好你\"]))"
   ]
  },
  {
   "cell_type": "code",
   "execution_count": null,
   "metadata": {},
   "outputs": [],
   "source": [
    "# print(messages.message[3])\n",
    "# print(fv.transform([messages.message[3]]))"
   ]
  },
  {
   "cell_type": "markdown",
   "metadata": {},
   "source": [
    "### TF"
   ]
  },
  {
   "cell_type": "code",
   "execution_count": 14,
   "metadata": {},
   "outputs": [],
   "source": [
    "!mkdir -p result"
   ]
  },
  {
   "cell_type": "code",
   "execution_count": 15,
   "metadata": {},
   "outputs": [],
   "source": [
    "def default(o):\n",
    "    if isinstance(o, np.int64): return int(o)  \n",
    "    raise TypeError\n",
    "\n",
    "import io\n",
    "import json\n",
    "with io.open(\"result/words_array.json\",'w',encoding=\"utf-8\") as outfile:\n",
    "    outfile.write(str(json.dumps(fv.vocabulary_, ensure_ascii=False, default=default)))"
   ]
  },
  {
   "cell_type": "markdown",
   "metadata": {},
   "source": [
    "## Messages Feature Vector"
   ]
  },
  {
   "cell_type": "code",
   "execution_count": 16,
   "metadata": {},
   "outputs": [
    {
     "name": "stdout",
     "output_type": "stream",
     "text": [
      "(2000, 9301)\n"
     ]
    }
   ],
   "source": [
    "messages_fv = fv.transform(messages.message)\n",
    "print(messages_fv.shape)"
   ]
  },
  {
   "cell_type": "code",
   "execution_count": 17,
   "metadata": {},
   "outputs": [],
   "source": [
    "tfidf = TfidfTransformer().fit(messages_fv)"
   ]
  },
  {
   "cell_type": "code",
   "execution_count": null,
   "metadata": {},
   "outputs": [],
   "source": [
    "# test tfidf of same message as before.\n",
    "# t = tfidf.transform(fv.transform([messages.message[3]]))\n",
    "# print(t)"
   ]
  },
  {
   "cell_type": "code",
   "execution_count": 18,
   "metadata": {},
   "outputs": [
    {
     "name": "stdout",
     "output_type": "stream",
     "text": [
      "(2000, 9301)\n"
     ]
    }
   ],
   "source": [
    "messages_tfidf = tfidf.transform(messages_fv)\n",
    "print(messages_tfidf.shape)"
   ]
  },
  {
   "cell_type": "code",
   "execution_count": 19,
   "metadata": {},
   "outputs": [
    {
     "data": {
      "text/plain": [
       "<1x9301 sparse matrix of type '<class 'numpy.float64'>'\n",
       "\twith 7 stored elements in Compressed Sparse Row format>"
      ]
     },
     "execution_count": 19,
     "metadata": {},
     "output_type": "execute_result"
    }
   ],
   "source": [
    "messages_tfidf[1]"
   ]
  },
  {
   "cell_type": "markdown",
   "metadata": {},
   "source": [
    "### IDF"
   ]
  },
  {
   "cell_type": "code",
   "execution_count": 20,
   "metadata": {},
   "outputs": [
    {
     "name": "stdout",
     "output_type": "stream",
     "text": [
      "IDF of corpus : [4.79473984 7.90825515 7.90825515 ... 7.90825515 5.71103058 6.99196442]\n"
     ]
    }
   ],
   "source": [
    "idf = {}\n",
    "idf['idf'] = tfidf.idf_.tolist()\n",
    "\n",
    "with io.open(\"result/words_idf.json\",'w',encoding=\"utf-8\") as outfile:\n",
    "    outfile.write(str(json.dumps(idf, ensure_ascii=False)))\n",
    "\n",
    "print(\"IDF of corpus :\", tfidf.idf_)"
   ]
  },
  {
   "cell_type": "markdown",
   "metadata": {},
   "source": [
    "## 模型训练\n",
    "\n",
    "Linear SVM"
   ]
  },
  {
   "cell_type": "code",
   "execution_count": 21,
   "metadata": {},
   "outputs": [],
   "source": [
    "# train test split\n",
    "X_train, X_test, y_train, y_test = train_test_split(messages_tfidf, messages.label, test_size=0.33, random_state=42)"
   ]
  },
  {
   "cell_type": "code",
   "execution_count": 22,
   "metadata": {},
   "outputs": [
    {
     "name": "stdout",
     "output_type": "stream",
     "text": [
      "CPU times: user 5.54 ms, sys: 3.19 ms, total: 8.73 ms\n",
      "Wall time: 9.66 ms\n",
      "accuracy 0.9878787878787879\n",
      "confusion matrix\n",
      " [[600   0]\n",
      " [  8  52]]\n",
      "(row=expected, col=predicted)\n"
     ]
    }
   ],
   "source": [
    "%time spam_detector = LinearSVC().fit(X_train, y_train)\n",
    "\n",
    "predictions = spam_detector.predict(X_test)\n",
    "\n",
    "print('accuracy', accuracy_score(y_test, predictions))\n",
    "print('confusion matrix\\n', confusion_matrix(y_test, predictions))\n",
    "print('(row=expected, col=predicted)')"
   ]
  },
  {
   "cell_type": "code",
   "execution_count": 23,
   "metadata": {},
   "outputs": [
    {
     "data": {
      "text/plain": [
       "Text(0.5, 0, 'predicted label')"
      ]
     },
     "execution_count": 23,
     "metadata": {},
     "output_type": "execute_result"
    },
    {
     "data": {
      "image/png": "[encoded data removed]",
      "text/plain": [
       "<Figure size 288x288 with 2 Axes>"
      ]
     },
     "metadata": {
      "needs_background": "light"
     },
     "output_type": "display_data"
    }
   ],
   "source": [
    "plt.matshow(confusion_matrix(y_test, predictions), cmap=plt.cm.binary, interpolation='nearest')\n",
    "plt.title('confusion matrix')\n",
    "plt.colorbar()\n",
    "plt.ylabel('expected label')\n",
    "plt.xlabel('predicted label')"
   ]
  },
  {
   "cell_type": "code",
   "execution_count": 24,
   "metadata": {},
   "outputs": [
    {
     "name": "stdout",
     "output_type": "stream",
     "text": [
      "              precision    recall  f1-score   support\n",
      "\n",
      "           0       0.99      1.00      0.99       600\n",
      "           1       1.00      0.87      0.93        60\n",
      "\n",
      "   micro avg       0.99      0.99      0.99       660\n",
      "   macro avg       0.99      0.93      0.96       660\n",
      "weighted avg       0.99      0.99      0.99       660\n",
      "\n"
     ]
    }
   ],
   "source": [
    "print(classification_report(y_test, predictions))"
   ]
  },
  {
   "cell_type": "markdown",
   "metadata": {},
   "source": [
    "## 转换为 CoreML"
   ]
  },
  {
   "cell_type": "code",
   "execution_count": 25,
   "metadata": {},
   "outputs": [],
   "source": [
    "import coremltools\n",
    "coreml_model = coremltools.converters.sklearn.convert(spam_detector, \"message\", \"spam_or_not\")\n",
    "\n",
    "#set parameters of the model\n",
    "coreml_model.author = \"qiwihui\"\n",
    "coreml_model.license = \"MIT\"\n",
    "coreml_model.short_description = \"Classify whether message is spam or not\"\n",
    "coreml_model.input_description[\"message\"] = \"TFIDF of message to be classified\"\n",
    "coreml_model.output_description[\"spam_or_not\"] = \"Whether message is spam or not\"\n",
    "#save the model\n",
    "coreml_model.save(\"result/SpamMessageClassifier.mlmodel\")"
   ]
  },
  {
   "cell_type": "code",
   "execution_count": 26,
   "metadata": {},
   "outputs": [
    {
     "data": {
      "text/plain": [
       "input {\n",
       "  name: \"message\"\n",
       "  shortDescription: \"TFIDF of message to be classified\"\n",
       "  type {\n",
       "    multiArrayType {\n",
       "      shape: 9301\n",
       "      dataType: DOUBLE\n",
       "    }\n",
       "  }\n",
       "}\n",
       "output {\n",
       "  name: \"spam_or_not\"\n",
       "  shortDescription: \"Whether message is spam or not\"\n",
       "  type {\n",
       "    int64Type {\n",
       "    }\n",
       "  }\n",
       "}\n",
       "output {\n",
       "  name: \"classProbability\"\n",
       "  type {\n",
       "    dictionaryType {\n",
       "      int64KeyType {\n",
       "      }\n",
       "    }\n",
       "  }\n",
       "}\n",
       "predictedFeatureName: \"spam_or_not\"\n",
       "predictedProbabilitiesName: \"classProbability\"\n",
       "metadata {\n",
       "  shortDescription: \"Classify whether message is spam or not\"\n",
       "  author: \"qiwihui\"\n",
       "  license: \"MIT\"\n",
       "}"
      ]
     },
     "execution_count": 26,
     "metadata": {},
     "output_type": "execute_result"
    }
   ],
   "source": [
    "from coremltools.models import MLModel\n",
    "model = MLModel('result/SpamMessageClassifier.mlmodel')\n",
    "\n",
    "model"
   ]
  },
  {
   "cell_type": "code",
   "execution_count": null,
   "metadata": {},
   "outputs": [],
   "source": [
    "import json\n",
    "words_array = json.load(open(\"result/words_array.json\", 'r'))\n",
    "print(len(words_array))\n",
    "\n",
    "words_idf = json.load(open(\"result/words_idf.json\", 'r'))\n",
    "print(len(words_idf[\"idf\"]))"
   ]
  },
  {
   "cell_type": "code",
   "execution_count": null,
   "metadata": {},
   "outputs": [],
   "source": [
    "new_words_idf = {\"idf\": [round(idf, 3) for idf in words_idf[\"idf\"]]}\n",
    "with io.open(\"result/words_idf.json\",'w',encoding=\"utf-8\") as outfile:\n",
    "    outfile.write(str(json.dumps(new_words_idf, ensure_ascii=False)))"
   ]
  },
  {
   "cell_type": "markdown",
   "metadata": {},
   "source": [
    "## 参考\n",
    "\n",
    "- [Building offline iPhone spam classifier using CoreML](https://medium.com/ymedialabs-innovation/building-offline-iphone-spam-classifier-using-coreml-3552c2beb2b2)"
   ]
  },
  {
   "cell_type": "code",
   "execution_count": null,
   "metadata": {},
   "outputs": [],
   "source": []
  }
 ],
 "metadata": {
  "kernelspec": {
   "display_name": "Python 3",
   "language": "python",
   "name": "python3"
  },
  "language_info": {
   "codemirror_mode": {
    "name": "ipython",
    "version": 3
   },
   "file_extension": ".py",
   "mimetype": "text/x-python",
   "name": "python",
   "nbconvert_exporter": "python",
   "pygments_lexer": "ipython3",
   "version": "3.6.5"
  }
 },
 "nbformat": 4,
 "nbformat_minor": 2
}
